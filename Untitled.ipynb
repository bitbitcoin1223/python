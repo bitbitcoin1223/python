{
 "cells": [
  {
   "cell_type": "code",
   "execution_count": 1,
   "id": "a51e8701-8a5c-4422-a1c4-8ad76c8ea3a0",
   "metadata": {},
   "outputs": [
    {
     "name": "stdout",
     "output_type": "stream",
     "text": [
      "bitcoin\n"
     ]
    }
   ],
   "source": [
    "print(\"bitcoin\")"
   ]
  },
  {
   "cell_type": "code",
   "execution_count": 1,
   "id": "1e4b5638-f38f-46c6-b8bf-d7a5a4c1ff05",
   "metadata": {},
   "outputs": [
    {
     "name": "stdout",
     "output_type": "stream",
     "text": [
      "0\n",
      "1\n",
      "2\n",
      "3\n",
      "4\n",
      "5\n",
      "6\n",
      "7\n",
      "8\n",
      "9\n"
     ]
    }
   ],
   "source": [
    "for i in range(10):\n",
    "    print(i)"
   ]
  },
  {
   "cell_type": "code",
   "execution_count": null,
   "id": "f9f7f56c-8a16-4eeb-88c6-e47c493b29f8",
   "metadata": {},
   "outputs": [],
   "source": [
    "aa"
   ]
  },
  {
   "cell_type": "markdown",
   "id": "f781dd25-59d4-462f-a323-b1bed4c48ebf",
   "metadata": {},
   "source": [
    "# bit\n",
    "## bit\n",
    "### bit\n",
    "#### bit\n",
    "##### bit"
   ]
  },
  {
   "cell_type": "code",
   "execution_count": null,
   "id": "3e7f20b9-348b-403a-aa69-8ec3e562e990",
   "metadata": {},
   "outputs": [],
   "source": []
  },
  {
   "cell_type": "markdown",
   "id": "3cce9f31-86ee-4c17-9ccb-40b5ad6940b9",
   "metadata": {},
   "source": []
  }
 ],
 "metadata": {
  "kernelspec": {
   "display_name": "Python 3 (ipykernel)",
   "language": "python",
   "name": "python3"
  },
  "language_info": {
   "codemirror_mode": {
    "name": "ipython",
    "version": 3
   },
   "file_extension": ".py",
   "mimetype": "text/x-python",
   "name": "python",
   "nbconvert_exporter": "python",
   "pygments_lexer": "ipython3",
   "version": "3.10.16"
  }
 },
 "nbformat": 4,
 "nbformat_minor": 5
}
